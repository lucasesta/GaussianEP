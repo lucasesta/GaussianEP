{
 "cells": [
  {
   "cell_type": "markdown",
   "source": [
    "#  **Testing Gaussian EP on a given RBM**\n"
   ],
   "metadata": {}
  },
  {
   "cell_type": "code",
   "execution_count": 1,
   "source": [
    "using Pkg\n",
    "using Plots\n",
    "using Revise\n",
    "using DelimitedFiles"
   ],
   "outputs": [
    {
     "output_type": "stream",
     "name": "stderr",
     "text": [
      "┌ Warning: no Manifest.toml file found, static paths used\n",
      "└ @ Revise /home/an-na/.julia/packages/Revise/9lZUE/src/packagedef.jl:1369\n"
     ]
    }
   ],
   "metadata": {}
  },
  {
   "cell_type": "code",
   "execution_count": 2,
   "source": [
    "include(\"../src/GaussianEP.jl\")\n",
    "include(\"../Sampling/Sampling.jl\")\n",
    "#Pkg.activate(\"/Users/luca/repos/GaussianEP/\")\n",
    "#using GaussianEP"
   ],
   "outputs": [
    {
     "output_type": "error",
     "ename": "LoadError",
     "evalue": "LoadError: LoadError: \u001b[91mUndefVarError: Simbol not defined\u001b[39m\nin expression starting at /home/an-na/src/GaussianEP/Sampling/utils.jl:152\nin expression starting at /home/an-na/src/GaussianEP/Sampling/Sampling.jl:19",
     "traceback": [
      "LoadError: LoadError: \u001b[91mUndefVarError: Simbol not defined\u001b[39m\nin expression starting at /home/an-na/src/GaussianEP/Sampling/utils.jl:152\nin expression starting at /home/an-na/src/GaussianEP/Sampling/Sampling.jl:19",
      "",
      "Stacktrace:",
      " [1] top-level scope at /home/an-na/src/GaussianEP/Sampling/utils.jl:152",
      " [2] include(::Function, ::Module, ::String) at ./Base.jl:380",
      " [3] include at ./Base.jl:368 [inlined]",
      " [4] include(::String) at /home/an-na/src/GaussianEP/Sampling/Sampling.jl:13",
      " [5] top-level scope at /home/an-na/src/GaussianEP/Sampling/Sampling.jl:19",
      " [6] include(::String) at ./client.jl:457",
      " [7] top-level scope at In[2]:2",
      " [8] include_string(::Function, ::Module, ::String, ::String) at ./loading.jl:1091"
     ]
    }
   ],
   "metadata": {}
  },
  {
   "cell_type": "code",
   "execution_count": null,
   "source": [
    "# Number of visible and hidden units, Gaussian weigths\n",
    "N = 12\n",
    "M = 4\n",
    "w = randn(N,M)\n",
    "y = zeros(N+M)\n",
    "H = [GaussianEP.TermRBM(w,y,1.0)];"
   ],
   "outputs": [],
   "metadata": {}
  },
  {
   "cell_type": "markdown",
   "source": [
    "# (Pv, Ph) = (Gaussian - Gaussian) priors"
   ],
   "metadata": {}
  },
  {
   "cell_type": "code",
   "execution_count": null,
   "source": [
    "μv = 3.0; βv = 5.0;\n",
    "μh = 5.0; βh = 4.0;\n",
    "\n",
    "Pv = [GaussianEP.GaussianPrior(μv, βv, 0.0) for i = 1:N];\n",
    "Ph = [GaussianEP.GaussianPrior(μh, βh, 0.0) for i = 1:M];\n",
    "P0 = vcat(Pv,Ph);"
   ],
   "outputs": [],
   "metadata": {}
  },
  {
   "cell_type": "code",
   "execution_count": null,
   "source": [
    "out = GaussianEP.expectation_propagation(H, P0, nprint = 100);"
   ],
   "outputs": [],
   "metadata": {}
  },
  {
   "cell_type": "code",
   "execution_count": null,
   "source": [
    "using Plots\n",
    "\n",
    "Σan = GaussianEP.compute_analytic(w,Pv,Ph)\n",
    "p1 = heatmap(Σan, aspect_ratio=1, ticks= :false, showaxis = :false, title=\"True covariance matrix\", titlelocation=:center)\n",
    "p2 = heatmap(out.state.Σ, aspect_ratio=1, ticks= :false, showaxis =:false, title=\"EP covariance matrix\", titlelocation=:center)\n",
    "Plots.plot(p1,p2)"
   ],
   "outputs": [],
   "metadata": {}
  },
  {
   "cell_type": "markdown",
   "source": [
    "# (Pv, Ph) = (Binary - Gaussian) priors"
   ],
   "metadata": {}
  },
  {
   "cell_type": "code",
   "execution_count": null,
   "source": [
    "x0v = 0.0; x1v = 1.0; ρ = 0.9;\n",
    "μh = 0.5; βh = 3.0; \n",
    "\n",
    "Pv = [GaussianEP.BinaryPrior(x0v, x1v, ρ) for i = 1:N]\n",
    "Ph = [GaussianEP.GaussianPrior(μh, βh, 0.0) for j = 1:M]\n",
    "P0 = vcat(Pv,Ph);"
   ],
   "outputs": [],
   "metadata": {}
  },
  {
   "cell_type": "code",
   "execution_count": null,
   "source": [
    "out = GaussianEP.expectation_propagation(H, P0, epsconv = 1e-7, maxiter=100000);\n",
    "cov_ep = zeros(N,M)\n",
    "for i = 1:N, j = 1:M\n",
    "\tcov_ep[i,j] = out.state.Σ[i,N+j] + out.state.av[i] * out.state.av[N+j]\n",
    "end"
   ],
   "outputs": [],
   "metadata": {}
  },
  {
   "cell_type": "code",
   "execution_count": null,
   "source": [
    "av_an, va_an, cov_an = GaussianEP.compute_analytic(w, Pv, Ph);"
   ],
   "outputs": [],
   "metadata": {}
  },
  {
   "cell_type": "code",
   "execution_count": null,
   "source": [
    "p1 = heatmap(cov_an', aspect_ratio=1, ticks= :false, showaxis = :false, xlabel = \"visible\", ylabel = \"hidden\" ,title=\"True covariance matrix\", titlelocation=:center)\n",
    "p2 = heatmap(cov_ep', aspect_ratio=1, ticks= :false, xlabel = \"visible\", ylabel = \"hidden\", showaxis =:false,  title=\"EP covariance matrix\", titlelocation=:center)\n",
    "p3 = Plots.plot(av_an, av_an, label = \"x = y\") \n",
    "p3 = Plots.plot!(av_an, out.av, seriestype = :scatter, label = \"EP means\", legend = :topleft, xlabel = \"True means\")\n",
    "p4 = Plots.plot(va_an, va_an, label = \"x = y\")\n",
    "p4 = Plots.plot!(va_an, out.va, seriestype = :scatter, label = \"EP vars\", legend = :topleft, xlabel = \"True var\")\n",
    "p5 = Plots.plot(vec(cov_an), vec(cov_an), label = \"x = y\")\n",
    "p5 = Plots.plot!(vec(cov_an), vec(cov_ep), seriestype = :scatter, label = \"EP cov\", legend = :bottomright, xlabel = \"True cross cov\")\n",
    "l = @layout [a b; c d e]\n",
    "Plots.plot(p1,p2,p3, p4, p5, layout = l)"
   ],
   "outputs": [],
   "metadata": {}
  },
  {
   "cell_type": "code",
   "execution_count": null,
   "source": [
    "Pv = [Sampling.BinaryPrior(x0v, x1v, ρ) for i = 1:N]\n",
    "Ph = [Sampling.GaussianPrior(μh, βh, 0.0) for j = 1:M]\n",
    "P0mc = vcat(Pv,Ph);"
   ],
   "outputs": [],
   "metadata": {}
  },
  {
   "cell_type": "code",
   "execution_count": null,
   "source": [
    "# Get acceptance rate ~ 0.5\n",
    "Δ_vec = collect(0.001:0.005:0.2)\n",
    "acc_tab = Sampling.MC_Δ_scan(Δ_vec,w,P0mc,10^5)\n",
    "plot(acc_tab[:,1], acc_tab[:,2], xlabel=\"Δ\", ylabel=\"acc. rate\", seriestype = :scatter)"
   ],
   "outputs": [],
   "metadata": {}
  },
  {
   "cell_type": "code",
   "execution_count": null,
   "source": [
    "# Get thermalization time\n",
    "\n",
    "Δ = 0.05\n",
    "nblocks = 22\n",
    "mc_energy = Sampling.MC_t_therm(nblocks, w, P0mc, Δ) \n",
    "bl_tab = Sampling.block_anal(nblocks, mc_energy)\n",
    "\n",
    "p1 = plot(bl_tab[:,1], bl_tab[:,2], ribbon=bl_tab[:,3],fillalpha=.5, xscale =:log) \n",
    "plot(p1)"
   ],
   "outputs": [],
   "metadata": {}
  },
  {
   "cell_type": "code",
   "execution_count": null,
   "source": [
    "# Sampling using MCMC\n",
    "\n",
    "Nconf = 10^6\n",
    "Twait = 10^7\n",
    "mc_out = Sampling.MC_sim(w, P0mc, Twait, Δ; N_iter=Nconf);"
   ],
   "outputs": [],
   "metadata": {}
  },
  {
   "cell_type": "code",
   "execution_count": null,
   "source": [
    "# Compute statistics\n",
    "\n",
    "av_mc, va_mc, cov_mc = Sampling.compute_statistics(mc_out);"
   ],
   "outputs": [],
   "metadata": {}
  },
  {
   "cell_type": "code",
   "execution_count": null,
   "source": [
    "p1 = heatmap(cov_an', aspect_ratio=1, ticks= :false, showaxis = :false, xlabel = \"visible\", ylabel = \"hidden\" ,title=\"True covariance matrix\", titlelocation=:center)\n",
    "p2 = heatmap(cov_mc', aspect_ratio=1, ticks= :false, xlabel = \"visible\", ylabel = \"hidden\", showaxis =:false,  title=\"MC covariance matrix\", titlelocation=:center)\n",
    "p3 = Plots.plot(av_an, av_an, label = \"x = y\") \n",
    "p3 = Plots.plot!(av_an, av_mc, seriestype = :scatter, label = \"MC means\", legend = :topleft, xlabel = \"True av\")\n",
    "p4 = Plots.plot(va_an, va_an, label = \"x = y\")\n",
    "p4 = Plots.plot!(va_an, va_mc, seriestype = :scatter, label = \"MC vars\", legend = :topleft, xlabel = \"True va\")\n",
    "p5 = Plots.plot(vec(cov_an), vec(cov_an), label = \"x = y\")\n",
    "p5 = Plots.plot!(vec(cov_an), vec(cov_mc), seriestype = :scatter, label = \"MC cov\", legend = :bottomright, xlabel = \"True cross cov\")\n",
    "l = @layout [a b; c d e]\n",
    "Plots.plot(p1,p2,p3, p4, p5, layout = l)"
   ],
   "outputs": [],
   "metadata": {}
  },
  {
   "cell_type": "markdown",
   "source": [
    "# (Pv, Ph) = (Gaussian, ReLu) Priors"
   ],
   "metadata": {}
  },
  {
   "cell_type": "code",
   "execution_count": 3,
   "source": [
    "\n",
    "# Number of visible and hidden units, Gaussian weigths\n",
    "N = 500\n",
    "M = 50\n",
    "w = randn(N,M)\n",
    "y = zeros(N+M)\n",
    "H = [GaussianEP.TermRBM(w,y,1.0)];\n",
    "γ = 2.0\n",
    "μv = 0.0; βv = 1000.0; # βv needs to be large\n"
   ],
   "outputs": [],
   "metadata": {}
  },
  {
   "cell_type": "code",
   "execution_count": 4,
   "source": [
    "γ_start = 50.0\n",
    "γ_final = γ\n",
    "N_iter = 10^2\n",
    "step = (γ_start - γ_final) / N_iter\n",
    "\n",
    "γiter = γ_start\n",
    "init_state = nothing\n",
    "\n",
    "Pv = [GaussianEP.GaussianPrior(μv, βv, 0.0) for i = 1:N];\n",
    "Ph = [GaussianEP.ReLUPrior(γiter,0.0) for j = 1:M ]\n",
    "P0 = vcat(Pv,Ph)\n",
    "out = nothing\n",
    "for i=1:N_iter+1\n",
    "    if mod(i,10) == 0\n",
    "        println(\"γ: \", γiter)\n",
    "    end\n",
    "    Ph .= [GaussianEP.ReLUPrior(γiter,0.0) for j = 1:M ]\n",
    "    P0 .= vcat(Pv,Ph)\n",
    "    if i==1\n",
    "        out = GaussianEP.expectation_propagation(H, P0, epsconv = 1e-8)\n",
    "    else\n",
    "        out = GaussianEP.expectation_propagation(H, P0; state = init_state, epsconv = 1e-8)\n",
    "    end\n",
    "\n",
    "    γiter -= step\n",
    "    init_state = out.state\n",
    "end\n",
    "\n",
    "println(γ, \" ?= \", γiter+step )\n",
    "\n",
    "cov_ep = zeros(N,M)\n",
    "for i = 1:N, j = 1:M\n",
    "\tcov_ep[i,j] = out.state.Σ[i,N+j] + out.state.av[i] * out.state.av[N+j]\n",
    "end"
   ],
   "outputs": [
    {
     "output_type": "stream",
     "name": "stdout",
     "text": [
      "it: 100 Δav: 1.0410283142470167e-7\n",
      "γ: 45.68000000000003\n",
      "γ: 40.88000000000006\n",
      "γ: 36.08000000000009\n",
      "γ: 31.280000000000115\n",
      "γ: 26.48000000000011\n",
      "γ: 21.680000000000106\n",
      "γ: 16.880000000000102\n",
      "γ: 12.080000000000098\n",
      "γ: 7.2800000000000935\n",
      "it: 100 Δav: 1.1488603957054977e-8\n",
      "γ: 2.480000000000091\n",
      "it: 100 Δav: 2.007877575316286e-8\n",
      "it: 100 Δav: 4.153637134240995e-8\n",
      "2.0 ?= 2.000000000000091\n"
     ]
    }
   ],
   "metadata": {}
  },
  {
   "cell_type": "code",
   "execution_count": 5,
   "source": [
    "Pv = [Sampling.GaussianPrior(μv, βv, 0.0) for i = 1:N];\n",
    "Ph = [Sampling.ReLUPrior(γ,0.0) for j = 1:M ]\n",
    "P0mc = vcat(Pv,Ph);"
   ],
   "outputs": [],
   "metadata": {}
  },
  {
   "cell_type": "code",
   "execution_count": null,
   "source": [
    "# Get acceptance rate ~ 0.5\n",
    "Δ_vec = collect(0.05:0.05:0.9)\n",
    "acc_tab = Sampling.MC_Δ_scan(Δ_vec,w,P0mc,10^3)\n",
    "plot(acc_tab[:,1], acc_tab[:,2], xlabel=\"Δ\", ylabel=\"acc. rate\", seriestype = :scatter)"
   ],
   "outputs": [],
   "metadata": {}
  },
  {
   "cell_type": "code",
   "execution_count": null,
   "source": [
    "\n",
    "# Get thermalization time\n",
    "\n",
    "Δ = 0.1\n",
    "nblocks = 20\n",
    "mc_energy = Sampling.MC_t_therm(nblocks, w, P0mc, Δ) \n",
    "bl_tab = Sampling.block_anal(nblocks, mc_energy)\n",
    "\n",
    "p1 = plot(bl_tab[:,1], bl_tab[:,2], ribbon=bl_tab[:,3],fillalpha=.5, xscale =:log) \n",
    "plot(p1)"
   ],
   "outputs": [],
   "metadata": {}
  },
  {
   "cell_type": "code",
   "execution_count": 6,
   "source": [
    "# Sampling using MCMC\n",
    "mc_energy = nothing\n",
    "bl_tab = nothing\n",
    "\n",
    "Δ = 0.1\n",
    "Nconf = 10^4\n",
    "Twait = 10^6\n",
    "\n",
    "mc_out = Sampling.MC_sim(w, P0mc, Twait, Δ; N_iter=Nconf);"
   ],
   "outputs": [],
   "metadata": {}
  },
  {
   "cell_type": "code",
   "execution_count": null,
   "source": [
    "# Compute statistics\n",
    "\n",
    "av_mc, va_mc, cov_mc = Sampling.compute_statistics(mc_out);"
   ],
   "outputs": [],
   "metadata": {}
  },
  {
   "cell_type": "code",
   "execution_count": null,
   "source": [
    "\n",
    "p1 = heatmap(cov_ep', aspect_ratio=1, ticks= :false, showaxis = :false, xlabel = \"visible\", ylabel = \"hidden\" ,title=\"EP covariance matrix\", titlelocation=:center)\n",
    "p2 = heatmap(cov_mc', aspect_ratio=1, ticks= :false, xlabel = \"visible\", ylabel = \"hidden\", showaxis =:false,  title=\"MC covariance matrix\", titlelocation=:center)\n",
    "p3 = Plots.plot(av_mc, av_mc, label = \"x = y\") \n",
    "p3 = Plots.plot!(av_mc, out.av, seriestype = :scatter, label = \"EP means\", legend = :topleft, xlabel = \"MC av\")\n",
    "p4 = Plots.plot(va_mc, va_mc, label = \"x = y\")\n",
    "p4 = Plots.plot!(va_mc, out.va, seriestype = :scatter, label = \"EP vars\", legend = :topleft, xlabel = \"MC va\")\n",
    "p5 = Plots.plot(vec(cov_mc), vec(cov_mc), label = \"x = y\")\n",
    "p5 = Plots.plot!(vec(cov_mc), vec(cov_ep), seriestype = :scatter, label = \"EP cov\", legend = :bottomright, xlabel = \"MC cross cov\")\n",
    "l = @layout [a b; c d e]\n",
    "Plots.plot(p1,p2,p3, p4, p5, layout = l)"
   ],
   "outputs": [],
   "metadata": {}
  }
 ],
 "metadata": {
  "interpreter": {
   "hash": "e695375a777f0f9f1300958cc31e886c373eb9ddef8f7fb6e353d1a5867712f9"
  },
  "kernelspec": {
   "display_name": "Julia 1.5.3",
   "language": "julia",
   "name": "julia-1.5"
  },
  "language_info": {
   "file_extension": ".jl",
   "mimetype": "application/julia",
   "name": "julia",
   "version": "1.5.3"
  }
 },
 "nbformat": 4,
 "nbformat_minor": 5
}