{
 "cells": [
  {
   "cell_type": "markdown",
   "metadata": {},
   "source": [
    "# MNIST check"
   ]
  },
  {
   "cell_type": "code",
   "execution_count": null,
   "metadata": {},
   "outputs": [],
   "source": [
    "using Pkg\n",
    "using Plots\n",
    "using Revise\n",
    "using DelimitedFiles\n",
    "using BenchmarkTools"
   ]
  },
  {
   "cell_type": "code",
   "execution_count": null,
   "metadata": {},
   "outputs": [],
   "source": [
    "Pkg.activate(\"../Sampling/\")\n",
    "using Sampling\n",
    "Pkg.activate(\"../../GaussianEP/\")\n",
    "using GaussianEP"
   ]
  },
  {
   "cell_type": "markdown",
   "metadata": {},
   "source": [
    "## (Pv,Ph) = (Bernoulli, Bernoulli)"
   ]
  },
  {
   "cell_type": "code",
   "execution_count": null,
   "metadata": {},
   "outputs": [],
   "source": [
    "using JLD2\n",
    "\n",
    "mean_data = readdlm(\"../MNIST/mean.txt\", '\\t', Float64, '\\n')\n",
    "covv_data = readdlm(\"../MNIST/corr.txt\", '\\t', Float64, '\\n')\n",
    "data_EP = load(\"../MNIST/res_BerRBM_rh8_w0bim_adagrad_SGD_epTRBL.jld2\");\n",
    "w_EP = data_EP[\"res\"].weights;\n"
   ]
  },
  {
   "cell_type": "code",
   "execution_count": null,
   "metadata": {},
   "outputs": [],
   "source": [
    "\n",
    "N,M = size(w_EP)\n",
    "rhov = 0.8677\n",
    "rhoh = 0.8\n",
    "Pv = BinaryPrior(0.0, 1.0, rhov)\n",
    "Ph = BinaryPrior(0.0, 1.0, rhoh)\n",
    "y = zeros(N+M)\n",
    "\n",
    "P0 = vcat([Pv for i = 1:N], [Ph for i = 1:M]);\n",
    "H = [GaussianEP.TermRBM(w_EP,y,1.0)];\n",
    "\n",
    "out_ep = expectation_propagation(H,P0, nprint = 1000, maxiter = 10000, damp = 0.99, epsconv = 1e-5);\n",
    "\n"
   ]
  },
  {
   "cell_type": "code",
   "execution_count": null,
   "metadata": {},
   "outputs": [],
   "source": [
    "using BoltzmannMachines\n",
    "#data_bm = load(\"../MNIST/winf_fields_BerRBM.jld2\")\n",
    "data_bm = load(\"../MNIST/bm_rbm_cdstep10_batchsize500.jld2\")\n",
    "w_BM = data_bm[\"rbm\"].weights\n",
    "rhov_BM = 1.0 ./ (1.0 .+ exp.(data_bm[\"rbm\"].visbias));\n",
    "rhoh_BM = 1.0 ./ (1.0 .+ exp.(data_bm[\"rbm\"].hidbias));\n",
    "\n",
    "Pv = [BinaryPrior(0.0,1.0,rhov_BM[i]) for i = 1:N]\n",
    "Ph = [BinaryPrior(0.0,1.0,rhoh_BM[i]) for i = 1:M]\n",
    "\n",
    "P0_BM = vcat(Pv,Ph);\n",
    "\n",
    "H_BM = GaussianEP.TermRBM(w_BM,y,1.0);\n",
    "beta_min = 0.01\n",
    "beta_max = 1.0\n",
    "niter = 2\n",
    "step = (beta_max - beta_min) / niter\n",
    "beta = beta_min\n",
    "out_BM = nothing\n",
    "\n",
    "for iter = 1:niter\n",
    "    H_BM.w .= beta .* w_BM\n",
    "    if iter == 1\n",
    "        out_BM = expectation_propagation([H_BM],P0_BM,nprint = 1, damp= 0.99, epsconv = 1e-4, maxiter = 100000, state = nothing);\n",
    "    else\n",
    "        out_BM = expectation_propagation([H_BM],P0_BM,nprint = 1, damp= 0.99, epsconv = 1e-4, maxiter = 100000, state = out_BM[1].state);\n",
    "    end\n",
    "    beta *= step\n",
    "end "
   ]
  },
  {
   "cell_type": "code",
   "execution_count": null,
   "metadata": {},
   "outputs": [],
   "source": [
    "data_bm = load(\"../MNIST/bm_rbm_cdstep10_batchsize500.jld2\")\n",
    "w_BM = data_bm[\"rbm\"].weights\n",
    "p1 = histogram(vec(w_BM), nbins = 200)\n",
    "p2 = plot(vec(H_BM.w),vec(w_BM), seriestype= :scatter)\n",
    "l = @layout [a;b]\n",
    "plot(p1,p2,layout = l)"
   ]
  },
  {
   "cell_type": "code",
   "execution_count": null,
   "metadata": {},
   "outputs": [],
   "source": [
    "using Random\n",
    "\n",
    "\n",
    "biasv_ep = log((1.0 - rhov)/rhov)\n",
    "biash_ep = log((1.0 - rhoh)/rhoh)\n",
    "rbm_bm = data_bm[\"rbm\"]\n",
    "rbm_ep = BernoulliRBM(w_EP, fill(biasv_ep, N), fill(biash_ep, M))\n",
    "particle_ep = BoltzmannMachines.initparticles(rbm_ep, 1, biased=true)\n",
    "particle_bm = BoltzmannMachines.initparticles(rbm_bm, 1, biased=true)\n",
    "\n",
    "#typeof(rbm_bm)\n",
    "Nconf = 10000\n",
    "Neq = 20000\n",
    "samples_ep = zeros(Nconf, N)\n",
    "samples_bm = zeros(Nconf, N)\n",
    "\n",
    "hidden_bm = zeros(Nconf,M)\n",
    "hidden_ep = zeros(Nconf,M)\n",
    "\n",
    "myseed = 19\n",
    "Random.seed!(myseed)\n",
    "gibbssample!(particle_ep, rbm_ep, Neq)\n",
    "gibbssample!(particle_bm, rbm_bm, Neq)\n",
    "for i = 1:Nconf\n",
    "\n",
    "    gibbssample!(particle_ep, rbm_ep, 1)\n",
    "    gibbssample!(particle_bm, rbm_bm, 1)\n",
    "    samples_ep[i,:] = particle_ep[1]\n",
    "    samples_bm[i,:] = particle_bm[1]\n",
    "    hidden_ep[i,:] = particle_ep[2]\n",
    "    hidden_bm[i,:] = particle_bm[2]\n",
    "end\n"
   ]
  },
  {
   "cell_type": "code",
   "execution_count": null,
   "metadata": {},
   "outputs": [],
   "source": [
    "mean_bm_mc = mean(samples_bm, dims=1)\n",
    "p1 = plot(mean_data, out_BM[1].av[1:N], seriestype = :scatter, xlabel = \"Data\", ylabel = \"EP (BM par)\")\n",
    "p2 = plot(mean_data, vec(mean_bm_mc), seriestype = :scatter, xlabel = \"Data\", ylabel = \"MC (BM par)\")\n",
    "l = @layout = [a;b]\n",
    "plot(p1, p2, layout = l)"
   ]
  },
  {
   "cell_type": "code",
   "execution_count": null,
   "metadata": {},
   "outputs": [],
   "source": [
    "using Statistics\n",
    "covv_bm_mc = cov(samples_bm)\n",
    "covv_ep_mc = cov(samples_ep)\n",
    "mean_bm_mc = mean(samples_bm, dims=1)\n",
    "mean_ep_mc = mean(samples_ep, dims=1)\n",
    "\n",
    "p1 = plot(out_ep[1].av[1:N], vec(mean_ep_mc), seriestype = :scatter, xlabel = \"EP (EP)\", ylabel = \"EP (MC)\")\n",
    "p2 = plot(out_BM[1].av[1:N], vec(mean_bm_mc), seriestype = :scatter, xlabel = \"BM (EP)\", ylabel = \"BM (MC)\")\n",
    "p3 = plot(mean_data, vec(mean_ep_mc), seriestype = :scatter, xlabel = \"Data\", ylabel = \"EP (MC)\")\n",
    "p4 = plot(mean_data, vec(mean_bm_mc), seriestype = :scatter, xlabel = \"Data\", ylabel = \"BM (MC)\")\n",
    "l = @layout [a b ; c d]\n",
    "plot(p1,p2,p3,p4, layout = l)"
   ]
  },
  {
   "cell_type": "code",
   "execution_count": null,
   "metadata": {},
   "outputs": [],
   "source": [
    "Nconf = 10000\n",
    "Ndig = 10000\n",
    "digits_ep = zeros(Ndig, N)\n",
    "digits_bm = zeros(Ndig, N)\n",
    "L = convert(Int64,sqrt(N))\n",
    "\n",
    "p1 = []\n",
    "p2 = []\n",
    "for idx = 1:100\n",
    "    for i = 1:Ndig\n",
    "        digits_ep[i,:] = samplevisible(rbm_ep, hidden_ep[idx,:])\n",
    "        digits_bm[i,:] = samplevisible(rbm_bm, hidden_bm[idx,:])\n",
    "    end\n",
    "    p1 = vcat(p1, heatmap(reshape(mean(digits_ep, dims=1), L, L), aspect_ratio = :equal, yflip = false))\n",
    "    p2 = vcat(p2, heatmap(reshape(mean(digits_bm, dims=1), L, L), aspect_ratio = :equal, yflip = false))\n",
    "\n",
    "end\n",
    "\n"
   ]
  },
  {
   "cell_type": "code",
   "execution_count": null,
   "metadata": {},
   "outputs": [],
   "source": [
    "\n",
    "idx = 90\n",
    "plot(p1[idx], p2[idx])"
   ]
  },
  {
   "cell_type": "code",
   "execution_count": null,
   "metadata": {},
   "outputs": [],
   "source": [
    "covv_ep = zeros(N,N)\n",
    "for i = 1:N, j = i+1:N\n",
    "\tcovv_ep[i,j] = out_ep.state.Σ[i,j] + out_ep.state.av[i] * out_ep.state.av[j]\n",
    "\tcovv_ep[j,i] = covv_ep[i,j]\n",
    "end\n",
    "\n",
    "va_data = zeros(N,)\n",
    "for i = 1:N\n",
    "\tva_data[i] = covv_data[i,i] - mean_data[i] * mean_data[i]\n",
    "\tcovv_data[i,i] = NaN\n",
    "end\n",
    "\n",
    "covv_bm = zeros(N,N)\n",
    "for i = 1:N, j = i+1:N\n",
    "\tcovv_bm[i,j] = out_BM.state.Σ[i,j] + out_BM.state.av[i] * out_BM.state.av[j]\n",
    "\tcovv_bm[j,i] = covv_bm[i,j]\n",
    "end\n"
   ]
  },
  {
   "cell_type": "code",
   "execution_count": null,
   "metadata": {},
   "outputs": [],
   "source": [
    "p = Plots.plot(mean_data, mean_data, aspect_ratio = :equal, seriestype = :scatter, label = \"x = y\", legend = :topleft, xlabel= \"Data av\")\n",
    "p = Plots.plot!(mean_data, out_ep.av[1:N], aspect_ratio = :equal, seriestype = :scatter, label = \"EP means\", legend = :topleft, xlabel= \"Data av\")\n",
    "p1 = Plots.plot(mean_data, mean_data, aspect_ratio = :equal, seriestype = :scatter, label = \"x = y\", legend = :topleft, xlabel= \"Data av\")\n",
    "p1 = Plots.plot!(mean_data, out_BM.av[1:N], seriestype = :scatter, label = \"BM means\", legend = :topleft, xlabel= \"Data av\")\n",
    "p2 = Plots.plot(out_BM.av[1:N], out_ep.av[1:N], seriestype = :scatter, label = \"Av\", legend = :topleft, xlabel = \"BM\", ylabel = \"EP\")\n",
    "l = @layout [a{0.3h} b{0.3h} c{0.3h}]\n",
    "Plots.plot(p, p1,p2, layout = l)"
   ]
  },
  {
   "cell_type": "code",
   "execution_count": null,
   "metadata": {},
   "outputs": [],
   "source": [
    "p = Plots.plot(va_data, va_data, aspect_ratio = :equal, seriestype = :scatter, label = \"x = y\", legend = :topleft, xlabel= \"Data var\")\n",
    "p = Plots.plot!(va_data, out_ep.va[1:N], aspect_ratio = :equal, seriestype = :scatter, label = \"EP vars\", legend = :topleft, xlabel= \"Data var\")\n",
    "p1 = Plots.plot(va_data, va_data, aspect_ratio = :equal, seriestype = :scatter, label = \"x = y\", legend = :topleft, xlabel= \"Data var\")\n",
    "p1 = Plots.plot!(va_data, out_BM.va[1:N], seriestype = :scatter, label = \"BM vars\", legend = :topleft, xlabel= \"Data var\")\n",
    "p2 = Plots.plot(out_BM.va[1:N], out_ep.va[1:N], seriestype = :scatter, label = \"Vars\", legend = :topleft, xlabel = \"BM\", ylabel = \"EP\")\n",
    "l = @layout [a{0.3h} b{0.3h} c{0.3h}]\n",
    "Plots.plot(p, p1,p2, layout = l)"
   ]
  },
  {
   "cell_type": "code",
   "execution_count": null,
   "metadata": {},
   "outputs": [],
   "source": [
    "vcovv_data = vec(covv_data)\n",
    "vcovv_ep = vec(covv_ep)\n",
    "vcovv_bm = vec(covv_bm)\n",
    "\n",
    "p = Plots.plot(vcovv_data, vcovv_data, aspect_ratio = :equal, seriestype = :scatter, label = \"x = y\", legend = :topleft, xlabel= \"Data cov(v,v)\")\n",
    "p = Plots.plot!(vcovv_data, vcovv_ep, aspect_ratio = :equal, seriestype = :scatter, label = \"EP covv\", legend = :topleft, xlabel= \"Data cov(v,v)\")\n",
    "p1 = Plots.plot(vcovv_data, vcovv_data, aspect_ratio = :equal, seriestype = :scatter, label = \"x = y\", legend = :topleft, xlabel= \"Data cov(v,v)\")\n",
    "p1 = Plots.plot!(vcovv_data, vcovv_bm, seriestype = :scatter, label = \"BM covv\", legend = :topleft, xlabel= \"Data cov(v,v)\")\n",
    "p2 = Plots.plot(vcovv_bm, vcovv_ep, seriestype = :scatter, label = \"Cov (v,v)\", legend = :topleft, xlabel = \"BM\", ylabel = \"EP\")\n",
    "l = @layout [a{0.3h} b{0.3h} c{0.3h}]\n",
    "Plots.plot(p, p1,p2, layout = l)\n",
    "\n"
   ]
  },
  {
   "cell_type": "code",
   "execution_count": null,
   "metadata": {},
   "outputs": [],
   "source": [
    "writedlm(open(\"../MNIST/covv_bm.dat\", \"w\"), vec(covv_bm))\n",
    "writedlm(open(\"../MNIST/covv_ep.dat\", \"w\"), vec(covv_ep))\n",
    "writedlm(open(\"../MNIST/covv_data.dat\", \"w\"), vec(covv_data))\n",
    "size(vec(covv_bm))"
   ]
  }
 ],
 "metadata": {
  "interpreter": {
   "hash": "1b361c855fbb00476414a68d75b606cbc6762a47eaafd2f9484e031b170af4aa"
  },
  "kernelspec": {
   "display_name": "Julia 1.6.2",
   "language": "julia",
   "name": "julia-1.6"
  },
  "language_info": {
   "file_extension": ".jl",
   "mimetype": "application/julia",
   "name": "julia",
   "version": "1.6.2"
  },
  "orig_nbformat": 4
 },
 "nbformat": 4,
 "nbformat_minor": 2
}
