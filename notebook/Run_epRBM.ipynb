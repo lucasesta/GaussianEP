{
 "cells": [
  {
   "cell_type": "markdown",
   "metadata": {},
   "source": [
    "#  **Testing Gaussian EP on a given RBM**\n"
   ]
  },
  {
   "cell_type": "code",
   "execution_count": null,
   "metadata": {},
   "outputs": [],
   "source": [
    "using Pkg\n",
    "using Plots\n",
    "using Revise\n",
    "using DelimitedFiles\n",
    "using BenchmarkTools"
   ]
  },
  {
   "cell_type": "code",
   "execution_count": null,
   "metadata": {},
   "outputs": [],
   "source": [
    "include(\"../src/GaussianEP.jl\")\n",
    "#using .GaussianEP\n",
    "#include(\"../Sampling/Sampling.jl\")\n",
    "#Pkg.activate(\"/Users/luca/repos/GaussianEP/\")\n",
    "#using GaussianEP"
   ]
  },
  {
   "cell_type": "code",
   "execution_count": null,
   "metadata": {},
   "outputs": [],
   "source": [
    "# Number of visible and hidden units, Gaussian weigths\n",
    "N = 8\n",
    "M = 3\n",
    "w = randn(N,M)\n",
    "y = zeros(N+M)\n",
    "H = [GaussianEP.TermRBM(w,y,1.0)];"
   ]
  },
  {
   "cell_type": "markdown",
   "metadata": {},
   "source": [
    "# (Pv, Ph) = (Gaussian - Gaussian) priors"
   ]
  },
  {
   "cell_type": "code",
   "execution_count": null,
   "metadata": {},
   "outputs": [],
   "source": [
    "μv = 3.0; βv = 5.0;\n",
    "μh = 5.0; βh = 4.0;\n",
    "\n",
    "Pv = [GaussianEP.GaussianPrior(μv, βv, 0.0) for i = 1:N];\n",
    "Ph = [GaussianEP.GaussianPrior(μh, βh, 0.0) for i = 1:M];\n"
   ]
  },
  {
   "cell_type": "code",
   "execution_count": null,
   "metadata": {},
   "outputs": [],
   "source": [
    "out = GaussianEP.expectation_propagation(H, Pv, Ph, nprint = 100);"
   ]
  },
  {
   "cell_type": "code",
   "execution_count": null,
   "metadata": {},
   "outputs": [],
   "source": [
    "using Plots\n",
    "\n",
    "Σan = GaussianEP.compute_analytic(w,Pv,Ph)\n",
    "p1 = heatmap(Σan, aspect_ratio=1, ticks= :false, showaxis = :false, title=\"True covariance matrix\", titlelocation=:center)\n",
    "p2 = heatmap(out.state.Σ, aspect_ratio=1, ticks= :false, showaxis =:false, title=\"EP covariance matrix\", titlelocation=:center)\n",
    "Plots.plot(p1,p2)"
   ]
  },
  {
   "cell_type": "markdown",
   "metadata": {},
   "source": [
    "# (Pv, Ph) = (Binary - Gaussian) priors"
   ]
  },
  {
   "cell_type": "code",
   "execution_count": null,
   "metadata": {},
   "outputs": [],
   "source": [
    "x0v = 0.0; x1v = 1.0; ρ = 0.9;\n",
    "μh = 0.5; βh = 3.0; \n",
    "Pv = nothing; Ph = nothing;\n",
    "Pv = [GaussianEP.BinaryPrior(x0v, x1v, ρ) for i = 1:N]\n",
    "Ph = [GaussianEP.GaussianPrior(μh, βh, 0.0) for j = 1:M];\n"
   ]
  },
  {
   "cell_type": "code",
   "execution_count": null,
   "metadata": {},
   "outputs": [],
   "source": [
    "out = GaussianEP.expectation_propagation(H, Pv, Ph, epsconv = 1e-7, maxiter=100000);\n",
    "cov_ep = zeros(N,M)\n",
    "for i = 1:N, j = 1:M\n",
    "\tcov_ep[i,j] = out.state.Σ[i,N+j] + out.state.av[i] * out.state.av[N+j]\n",
    "end"
   ]
  },
  {
   "cell_type": "code",
   "execution_count": null,
   "metadata": {},
   "outputs": [],
   "source": [
    "av_an, va_an, cov_an = GaussianEP.compute_analytic(w, Pv, Ph);"
   ]
  },
  {
   "cell_type": "code",
   "execution_count": null,
   "metadata": {},
   "outputs": [],
   "source": [
    "p1 = heatmap(cov_an', aspect_ratio=1, ticks= :false, showaxis = :false, xlabel = \"visible\", ylabel = \"hidden\" ,title=\"True covariance matrix\", titlelocation=:center)\n",
    "p2 = heatmap(cov_ep', aspect_ratio=1, ticks= :false, xlabel = \"visible\", ylabel = \"hidden\", showaxis =:false,  title=\"EP covariance matrix\", titlelocation=:center)\n",
    "p3 = Plots.plot(av_an, av_an, label = \"x = y\") \n",
    "p3 = Plots.plot!(av_an, out.av, seriestype = :scatter, label = \"EP means\", legend = :topleft, xlabel = \"True means\")\n",
    "p4 = Plots.plot(va_an, va_an, label = \"x = y\")\n",
    "p4 = Plots.plot!(va_an, out.va, seriestype = :scatter, label = \"EP vars\", legend = :topleft, xlabel = \"True var\")\n",
    "p5 = Plots.plot(vec(cov_an), vec(cov_an), label = \"x = y\")\n",
    "p5 = Plots.plot!(vec(cov_an), vec(cov_ep), seriestype = :scatter, label = \"EP cov\", legend = :bottomright, xlabel = \"True cross cov\")\n",
    "l = @layout [a b; c d e]\n",
    "Plots.plot(p1,p2,p3, p4, p5, layout = l)"
   ]
  },
  {
   "cell_type": "code",
   "execution_count": null,
   "metadata": {},
   "outputs": [],
   "source": [
    "Pv = [Sampling.BinaryPrior(x0v, x1v, ρ) for i = 1:N]\n",
    "Ph = [Sampling.GaussianPrior(μh, βh, 0.0) for j = 1:M]\n",
    "P0mc = vcat(Pv,Ph);"
   ]
  },
  {
   "cell_type": "code",
   "execution_count": null,
   "metadata": {},
   "outputs": [],
   "source": [
    "# Get acceptance rate ~ 0.5\n",
    "Δ_vec = collect(0.001:0.005:0.2)\n",
    "@time acc_tab = Sampling.MC_Δ_scan(Δ_vec,w,P0mc,10^5)\n",
    "plot(acc_tab[:,1], acc_tab[:,2], xlabel=\"Δ\", ylabel=\"acc. rate\", seriestype = :scatter)"
   ]
  },
  {
   "cell_type": "code",
   "execution_count": null,
   "metadata": {},
   "outputs": [],
   "source": [
    "# Get thermalization time\n",
    "\n",
    "Δ = 0.05\n",
    "nblocks = 22\n",
    "mc_energy = Sampling.MC_t_therm(nblocks, w, P0mc, Δ) \n",
    "@time bl_tab = Sampling.block_anal(nblocks, mc_energy)\n",
    "\n",
    "p1 = plot(bl_tab[:,1], bl_tab[:,2], ribbon=bl_tab[:,3],fillalpha=.5, xscale =:log, xlabel=\"MC sweeps\", ylabel=\"Energy\") \n",
    "plot(p1)\n"
   ]
  },
  {
   "cell_type": "code",
   "execution_count": null,
   "metadata": {},
   "outputs": [],
   "source": [
    "# Sampling using MCMC\n",
    "bl_tab = nothing\n",
    "Nconf = 10^6\n",
    "Twait = 10^6\n",
    "@time mc_out = Sampling.MC_sim(w, P0mc, Twait, Δ; N_iter=Nconf);"
   ]
  },
  {
   "cell_type": "code",
   "execution_count": null,
   "metadata": {},
   "outputs": [],
   "source": [
    "# Compute statistics\n",
    "\n",
    "@time av_mc, va_mc, cov_mc = Sampling.compute_statistics(mc_out, N, M);"
   ]
  },
  {
   "cell_type": "code",
   "execution_count": null,
   "metadata": {},
   "outputs": [],
   "source": [
    "p1 = heatmap(cov_an', aspect_ratio=1, ticks= :false, showaxis = :false, xlabel = \"visible\", ylabel = \"hidden\" ,title=\"True covariance matrix\", titlelocation=:center)\n",
    "p2 = heatmap(cov_mc', aspect_ratio=1, ticks= :false, xlabel = \"visible\", ylabel = \"hidden\", showaxis =:false,  title=\"MC covariance matrix\", titlelocation=:center)\n",
    "p3 = Plots.plot(av_an, av_an, label = \"x = y\") \n",
    "p3 = Plots.plot!(av_an, av_mc, seriestype = :scatter, label = \"MC means\", legend = :topleft, xlabel = \"True av\")\n",
    "p4 = Plots.plot(va_an, va_an, label = \"x = y\")\n",
    "p4 = Plots.plot!(va_an, va_mc, seriestype = :scatter, label = \"MC vars\", legend = :topleft, xlabel = \"True va\")\n",
    "p5 = Plots.plot(vec(cov_an), vec(cov_an), label = \"x = y\")\n",
    "p5 = Plots.plot!(vec(cov_an), vec(cov_mc), seriestype = :scatter, label = \"MC cov\", legend = :bottomright, xlabel = \"True cross cov\")\n",
    "l = @layout [a b; c d e]\n",
    "Plots.plot(p1,p2,p3, p4, p5, layout = l)"
   ]
  },
  {
   "cell_type": "markdown",
   "metadata": {},
   "source": [
    "# (Pv, Ph) = (Gaussian, ReLu) Priors"
   ]
  },
  {
   "cell_type": "code",
   "execution_count": null,
   "metadata": {},
   "outputs": [],
   "source": [
    "\n",
    "# Number of visible and hidden units, Gaussian weigths\n",
    "N = 100\n",
    "M = 10\n",
    "w = randn(N,M)\n",
    "y = zeros(N+M)\n",
    "H = [GaussianEP.TermRBM(w,y,1.0)];\n",
    "γ = 50.0\n",
    "θ = 1.0\n",
    "μv = 0.0; βv = 10.0; # βv needs to be large\n",
    "\n",
    "Pv = [GaussianEP.GaussianPrior(μv, βv, 0.0) for i = 1:N];\n",
    "Ph = [GaussianEP.ReLUPrior(γ, θ, 1e-2, 1e-2) for j = 1:M ]\n"
   ]
  },
  {
   "cell_type": "code",
   "execution_count": null,
   "metadata": {},
   "outputs": [],
   "source": [
    "out = GaussianEP.expectation_propagation(H, Pv, Ph, nprint = 100)\n",
    "\n",
    "cov_ep = zeros(N,M)\n",
    "for i = 1:N, j = 1:M\n",
    "\tcov_ep[i,j] = out.state.Σ[i,N+j] + out.state.av[i] * out.state.av[N+j]\n",
    "end"
   ]
  },
  {
   "cell_type": "code",
   "execution_count": null,
   "metadata": {},
   "outputs": [],
   "source": [
    "γ_m = mean([P0[N+i].γ for i = 1:M])\n",
    "θ_m = mean([P0[N+i].θ for i = 1:M])"
   ]
  },
  {
   "cell_type": "code",
   "execution_count": null,
   "metadata": {},
   "outputs": [],
   "source": [
    "Pv = [Sampling.GaussianPrior(μv, βv, 0.0) for i = 1:N];\n",
    "Ph = [Sampling.ReLUPrior(γ_m, θ_m) for j = 1:M ]\n",
    "P0mc = vcat(Pv,Ph);"
   ]
  },
  {
   "cell_type": "code",
   "execution_count": null,
   "metadata": {},
   "outputs": [],
   "source": [
    "# Get acceptance rate ~ 0.5\n",
    "Δ_vec = collect(0.05:0.05:0.9)\n",
    "acc_tab = Sampling.MC_Δ_scan(Δ_vec,w,P0mc,10^3)\n",
    "plot(acc_tab[:,1], acc_tab[:,2], xlabel=\"Δ\", ylabel=\"acc. rate\", seriestype = :scatter)"
   ]
  },
  {
   "cell_type": "code",
   "execution_count": null,
   "metadata": {},
   "outputs": [],
   "source": [
    "\n",
    "# Get thermalization time\n",
    "\n",
    "Δ = 0.1\n",
    "nblocks = 20\n",
    "mc_energy = Sampling.MC_t_therm(nblocks, w, P0mc, Δ) \n",
    "bl_tab = Sampling.block_anal(nblocks, mc_energy)\n",
    "\n",
    "p1 = plot(bl_tab[:,1], bl_tab[:,2], ribbon=bl_tab[:,3],fillalpha=.5, xscale =:log) \n",
    "plot(p1)"
   ]
  },
  {
   "cell_type": "code",
   "execution_count": null,
   "metadata": {},
   "outputs": [],
   "source": [
    "# Sampling using MCMC\n",
    "\n",
    "mc_energy = nothing\n",
    "bl_tab = nothing\n",
    "mc_out = nothing\n",
    "\n",
    "Δ = 0.1\n",
    "Nconf = 5 * 10^5\n",
    "Twait = 10^6\n",
    "\n",
    "mc_out = Sampling.MC_sim(w, P0mc, Twait, Δ; N_iter=Nconf);"
   ]
  },
  {
   "cell_type": "code",
   "execution_count": null,
   "metadata": {},
   "outputs": [],
   "source": [
    "# Compute statistics\n",
    "\n",
    "av_mc, va_mc, cov_mc = Sampling.compute_statistics(mc_out, N, M);"
   ]
  },
  {
   "cell_type": "code",
   "execution_count": null,
   "metadata": {},
   "outputs": [],
   "source": [
    "\n",
    "p1 = heatmap(cov_ep', aspect_ratio=1, ticks= :false, showaxis = :false, xlabel = \"visible\", ylabel = \"hidden\" ,title=\"EP covariance matrix\", titlelocation=:center)\n",
    "p2 = heatmap(cov_mc', aspect_ratio=1, ticks= :false, xlabel = \"visible\", ylabel = \"hidden\", showaxis =:false,  title=\"MC covariance matrix\", titlelocation=:center)\n",
    "p3 = Plots.plot(av_mc, av_mc, label = \"x = y\") \n",
    "p3 = Plots.plot!(av_mc, out.av, seriestype = :scatter, label = \"EP means\", legend = :topleft, xlabel = \"MC av\")\n",
    "p4 = Plots.plot(va_mc, va_mc, label = \"x = y\")\n",
    "p4 = Plots.plot!(va_mc, out.va, seriestype = :scatter, label = \"EP vars\", legend = :topleft, xlabel = \"MC va\")\n",
    "p5 = Plots.plot(vec(cov_mc), vec(cov_mc), label = \"x = y\")\n",
    "p5 = Plots.plot!(vec(cov_mc), vec(cov_ep), seriestype = :scatter, label = \"EP cov\", legend = :bottomright, xlabel = \"MC cross cov\")\n",
    "l = @layout [a b; c d e]\n",
    "Plots.plot(p1,p2,p3, p4, p5, layout = l)"
   ]
  },
  {
   "cell_type": "markdown",
   "metadata": {},
   "source": [
    "# (Pv, Ph) = (SpikeAndSlab, ReLu) priors"
   ]
  },
  {
   "cell_type": "code",
   "execution_count": null,
   "metadata": {},
   "outputs": [],
   "source": [
    "\n",
    "# Number of visible and hidden units, Gaussian weigths\n",
    "#N = convert(Int,28*28*0.5)\n",
    "#M = convert(Int,400*0.5)\n",
    "N = 100\n",
    "M = 10\n",
    "w = randn(N,M)\n",
    "y = zeros(N+M)\n",
    "H = [GaussianEP.TermRBM(w,y,1.0)];\n",
    "γ = 50.0\n",
    "ρ = 1.0/21\n",
    "λ = 50.0\n",
    "Pv = [GaussianEP.SpikeSlabPrior(ρ, λ, 0.0, 1e-3) for i = 1:N]\n",
    "Ph = [GaussianEP.ReLUPrior(γ, 0.0, 1e-3, 1e-3) for i = 1:M]\n"
   ]
  },
  {
   "cell_type": "code",
   "execution_count": null,
   "metadata": {},
   "outputs": [],
   "source": [
    "\n",
    "out = GaussianEP.expectation_propagation(H, Pv, Ph, epsconv = 1e-5, nprint = 1)\n",
    "\n",
    "cov_ep = zeros(N,M)\n",
    "for i = 1:N, j = 1:M\n",
    "\tcov_ep[i,j] = out.state.Σ[i,N+j] + out.state.av[i] * out.state.av[N+j]\n",
    "end\n"
   ]
  },
  {
   "cell_type": "code",
   "execution_count": null,
   "metadata": {},
   "outputs": [],
   "source": [
    "\n",
    "\n",
    "γ_m = mean([P0[N+i].γ for i = 1:M])\n",
    "θ_m = mean([P0[N+i].θ for i = 1:M])\n",
    "λ_m = mean([P0[i].λ for i = 1:N])\n",
    "println(\"γ: \",γ_m, \" θ: \", θ_m, \" λ: \", λ_m)\n",
    "Pv = [Sampling.SpikeSlabPrior(ρ, λ_m) for i = 1:N]\n",
    "Ph = [Sampling.ReLUPrior(γ_m, θ_m) for j = 1:M ]\n",
    "P0mc = vcat(Pv,Ph);"
   ]
  },
  {
   "cell_type": "code",
   "execution_count": null,
   "metadata": {},
   "outputs": [],
   "source": [
    "\n",
    "# Get acceptance rate ~ 0.5\n",
    "Δ_vec = collect(0.5:0.5:3.0)\n",
    "acc_tab = Sampling.MC_Δ_scan(Δ_vec,w,P0mc,10^3)\n",
    "plot(acc_tab[:,1], acc_tab[:,2], xlabel=\"Δ\", ylabel=\"acc. rate\", seriestype = :scatter)"
   ]
  },
  {
   "cell_type": "code",
   "execution_count": null,
   "metadata": {},
   "outputs": [],
   "source": [
    "# Get thermalization time\n",
    "\n",
    "Δ = 3.5\n",
    "nblocks = 15\n",
    "mc_energy = Sampling.MC_t_therm(nblocks, w, P0mc, Δ) \n",
    "bl_tab = Sampling.block_anal(nblocks, mc_energy)\n",
    "\n",
    "p1 = plot(bl_tab[:,1], bl_tab[:,2], ribbon=bl_tab[:,3],fillalpha=.5, xscale =:log) \n",
    "plot(p1)"
   ]
  },
  {
   "cell_type": "code",
   "execution_count": null,
   "metadata": {},
   "outputs": [],
   "source": [
    "# Sampling using MCMC\n",
    "mc_energy = nothing\n",
    "bl_tab = nothing\n",
    "mc_out = nothing\n",
    "\n",
    "Δ = 3.5\n",
    "Nconf = 10^6\n",
    "Twait = 10^5\n",
    "\n",
    "@time mc_out = Sampling.MC_sim(w, P0mc, Twait, Δ; N_iter=Nconf);"
   ]
  },
  {
   "cell_type": "code",
   "execution_count": null,
   "metadata": {},
   "outputs": [],
   "source": [
    "# Compute statistics\n",
    "\n",
    "@time av_mc, va_mc, cov_mc = Sampling.compute_statistics(mc_out, N, M);"
   ]
  },
  {
   "cell_type": "code",
   "execution_count": null,
   "metadata": {},
   "outputs": [],
   "source": [
    "p1 = heatmap(cov_ep', aspect_ratio=1, ticks= :false, showaxis = :false, xlabel = \"visible\", ylabel = \"hidden\" ,title=\"EP covariance matrix\", titlelocation=:center)\n",
    "p2 = heatmap(cov_mc', aspect_ratio=1, ticks= :false, xlabel = \"visible\", ylabel = \"hidden\", showaxis =:false,  title=\"MC covariance matrix\", titlelocation=:center)\n",
    "p3 = Plots.plot(av_mc, av_mc, label = \"x = y\") \n",
    "p3 = Plots.plot!(av_mc, out.av, seriestype = :scatter, label = \"EP means\", legend = :topleft, xlabel = \"MC av\")\n",
    "p4 = Plots.plot(va_mc, va_mc, label = \"x = y\")\n",
    "p4 = Plots.plot!(va_mc, out.va, seriestype = :scatter, label = \"EP vars\", legend = :topleft, xlabel = \"MC va\")\n",
    "p5 = Plots.plot(vec(cov_mc), vec(cov_mc), label = \"x = y\")\n",
    "p5 = Plots.plot!(vec(cov_mc), vec(cov_ep), seriestype = :scatter, label = \"EP cov\", legend = :bottomright, xlabel = \"MC cross cov\")\n",
    "l = @layout [a b; c d e]\n",
    "Plots.plot(p1,p2,p3, p4, p5, layout = l)"
   ]
  },
  {
   "cell_type": "markdown",
   "metadata": {},
   "source": [
    "# (Pv, Ph) = (Gaussian, Spike and Slab)"
   ]
  },
  {
   "cell_type": "code",
   "execution_count": null,
   "metadata": {},
   "outputs": [],
   "source": [
    "\n",
    "# Number of visible and hidden units, Gaussian weigths\n",
    "#N = 30\n",
    "#M = 15\n",
    "N = 100\n",
    "M = 10\n",
    "w = randn(N,M)\n",
    "y = zeros(N+M)\n",
    "H = [GaussianEP.TermRBM(w,y,1.0)];\n",
    "ρ = 0.2\n",
    "λ = 20.0\n",
    "μv = 0.5\n",
    "βv = 50.0\n",
    "\n",
    "Ph = [GaussianEP.SpikeSlabPrior(ρ, λ) for i = 1:M]\n",
    "Pv = [GaussianEP.GaussianPrior(μv, βv, 0.0) for i = 1:N];\n"
   ]
  },
  {
   "cell_type": "code",
   "execution_count": null,
   "metadata": {},
   "outputs": [],
   "source": [
    "out = GaussianEP.expectation_propagation(H, Pv, Ph, nprint = 100);\n",
    "\n",
    "cov_ep = zeros(N,M)\n",
    "for i = 1:N, j = 1:M\n",
    "\tcov_ep[i,j] = out.state.Σ[i,N+j] + out.state.av[i] * out.state.av[N+j]\n",
    "end"
   ]
  },
  {
   "cell_type": "code",
   "execution_count": null,
   "metadata": {},
   "outputs": [],
   "source": [
    "\n",
    "Ph = [Sampling.SpikeSlabPrior(ρ, λ) for i = 1:M]\n",
    "Pv = [Sampling.GaussianPrior(μv, βv, 0.0) for i = 1:N];\n",
    "P0mc = vcat(Pv,Ph);"
   ]
  },
  {
   "cell_type": "code",
   "execution_count": null,
   "metadata": {},
   "outputs": [],
   "source": [
    "\n",
    "# Get acceptance rate ~ 0.5\n",
    "Δ_vec = collect(0.1:0.1:1.2)\n",
    "acc_tab = Sampling.MC_Δ_scan(Δ_vec,w,P0mc,10^3)\n",
    "plot(acc_tab[:,1], acc_tab[:,2], xlabel=\"Δ\", ylabel=\"acc. rate\", seriestype = :scatter)"
   ]
  },
  {
   "cell_type": "code",
   "execution_count": null,
   "metadata": {},
   "outputs": [],
   "source": [
    "# Get thermalization time\n",
    "\n",
    "Δ = 1.2\n",
    "nblocks = 15\n",
    "mc_energy = Sampling.MC_t_therm(nblocks, w, P0mc, Δ) \n",
    "bl_tab = Sampling.block_anal(nblocks, mc_energy)\n",
    "\n",
    "p1 = plot(bl_tab[:,1], bl_tab[:,2], ribbon=bl_tab[:,3],fillalpha=.5, xscale =:log) \n",
    "plot(p1)"
   ]
  },
  {
   "cell_type": "code",
   "execution_count": null,
   "metadata": {},
   "outputs": [],
   "source": [
    "\n",
    "# Sampling using MCMC\n",
    "mc_energy = nothing\n",
    "bl_tab = nothing\n",
    "mc_out = nothing\n",
    "\n",
    "Nconf = 5*10^6\n",
    "Twait = 10^4\n",
    "\n",
    "mc_out = Sampling.MC_sim(w, P0mc, Twait, Δ; N_iter=Nconf);"
   ]
  },
  {
   "cell_type": "code",
   "execution_count": null,
   "metadata": {},
   "outputs": [],
   "source": [
    "# Compute statistics\n",
    "\n",
    "av_mc, va_mc, cov_mc = Sampling.compute_statistics(mc_out, N, M);"
   ]
  },
  {
   "cell_type": "code",
   "execution_count": null,
   "metadata": {},
   "outputs": [],
   "source": [
    "p1 = heatmap(cov_ep', aspect_ratio=1, ticks= :false, showaxis = :false, xlabel = \"visible\", ylabel = \"hidden\" ,title=\"EP covariance matrix\", titlelocation=:center)\n",
    "p2 = heatmap(cov_mc', aspect_ratio=1, ticks= :false, xlabel = \"visible\", ylabel = \"hidden\", showaxis =:false,  title=\"MC covariance matrix\", titlelocation=:center)\n",
    "p3 = Plots.plot(av_mc, av_mc, label = \"x = y\") \n",
    "p3 = Plots.plot!(av_mc, out.av, seriestype = :scatter, label = \"EP means\", legend = :topleft, xlabel = \"MC av\")\n",
    "p4 = Plots.plot(va_mc, va_mc, label = \"x = y\")\n",
    "p4 = Plots.plot!(va_mc, out.va, seriestype = :scatter, label = \"EP vars\", legend = :topleft, xlabel = \"MC va\")\n",
    "p5 = Plots.plot(vec(cov_mc), vec(cov_mc), label = \"x = y\")\n",
    "p5 = Plots.plot!(vec(cov_mc), vec(cov_ep), seriestype = :scatter, label = \"EP cov\", legend = :bottomright, xlabel = \"MC cross cov\")\n",
    "l = @layout [a b; c d e]\n",
    "Plots.plot(p1,p2,p3, p4, p5, layout = l)"
   ]
  }
 ],
 "metadata": {
  "interpreter": {
   "hash": "e695375a777f0f9f1300958cc31e886c373eb9ddef8f7fb6e353d1a5867712f9"
  },
  "kernelspec": {
   "display_name": "Julia 1.5.3",
   "language": "julia",
   "name": "julia-1.5"
  },
  "language_info": {
   "file_extension": ".jl",
   "mimetype": "application/julia",
   "name": "julia",
   "version": "1.5.3"
  }
 },
 "nbformat": 4,
 "nbformat_minor": 5
}
