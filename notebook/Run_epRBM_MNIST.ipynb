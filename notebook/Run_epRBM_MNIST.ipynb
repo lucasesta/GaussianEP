{
 "cells": [
  {
   "cell_type": "markdown",
   "metadata": {},
   "source": [
    "# MNIST check"
   ]
  },
  {
   "cell_type": "code",
   "execution_count": 1,
   "metadata": {},
   "outputs": [],
   "source": [
    "using Pkg\n",
    "using DelimitedFiles\n",
    "using BenchmarkTools\n",
    "using PyPlot"
   ]
  },
  {
   "cell_type": "code",
   "execution_count": 2,
   "metadata": {},
   "outputs": [
    {
     "name": "stderr",
     "output_type": "stream",
     "text": [
      "\u001b[32m\u001b[1m  Activating\u001b[22m\u001b[39m environment at `~/GaussianEP/Sampling/Project.toml`\n",
      "┌ Info: Precompiling Sampling [89856a0a-5ec6-497b-a605-6c7f2f763f9e]\n",
      "└ @ Base loading.jl:1342\n",
      "\u001b[32m\u001b[1m  Activating\u001b[22m\u001b[39m environment at `~/GaussianEP/Project.toml`\n"
     ]
    }
   ],
   "source": [
    "Pkg.activate(\"../Sampling/\")\n",
    "using Sampling\n",
    "Pkg.activate(\"../../GaussianEP/\")\n",
    "using GaussianEP"
   ]
  },
  {
   "cell_type": "markdown",
   "metadata": {},
   "source": [
    "## (Pv,Ph) = (Bernoulli, Bernoulli)"
   ]
  },
  {
   "cell_type": "code",
   "execution_count": 3,
   "metadata": {},
   "outputs": [
    {
     "name": "stderr",
     "output_type": "stream",
     "text": [
      "┌ Warning: saved type EPState{Float64} is missing field av_cav in workspace type; reconstructing\n",
      "└ @ JLD2 /home/disat/amuntoni/.julia/packages/JLD2/DcnTD/src/data/reconstructing_datatypes.jl:152\n",
      "┌ Warning: type parameters for NamedTuple{(:weights, :likelihood, :state, :opt, :grad),Tuple} do not match type NamedTuple in workspace; reconstructing\n",
      "└ @ JLD2 /home/disat/amuntoni/.julia/packages/JLD2/DcnTD/src/data/reconstructing_datatypes.jl:430\n",
      "┌ Warning: type epRBM.Adam{Float64,Int64} does not exist in workspace; reconstructing\n",
      "└ @ JLD2 /home/disat/amuntoni/.julia/packages/JLD2/DcnTD/src/data/reconstructing_datatypes.jl:450\n"
     ]
    },
    {
     "data": {
      "text/plain": [
       "(784, 400)"
      ]
     },
     "execution_count": 3,
     "metadata": {},
     "output_type": "execute_result"
    }
   ],
   "source": [
    "using JLD2\n",
    "\n",
    "mean_data = readdlm(\"../MNIST/mean.txt\", '\\t', Float64, '\\n')\n",
    "covv_data = readdlm(\"../MNIST/corr.txt\", '\\t', Float64, '\\n')\n",
    "data_EP = load(\"../MNIST/best_w_sofar.jld2\")\n",
    "#data_EP = load(\"../MNIST/res_BerRBM_rh8_w0bim_adagrad_SGD_epTRBL.jld2\");\n",
    "#w_EP = data_EP[\"res\"].weights;\n",
    "\n",
    "w_EP = data_EP[\"res_prior\"].res.weights;\n",
    "P0 = data_EP[\"res_prior\"].prior;\n",
    "\n",
    "N,M = size(w_EP)"
   ]
  },
  {
   "cell_type": "code",
   "execution_count": null,
   "metadata": {},
   "outputs": [],
   "source": [
    "\n",
    "N,M = size(w_EP)\n",
    "\n",
    "#rhov = 0.8677\n",
    "#rhoh = 0.8\n",
    "#Pv = BinaryPrior(0.0, 1.0, rhov)\n",
    "#Ph = BinaryPrior(0.0, 1.0, rhoh)\n",
    "y = zeros(N+M)\n",
    "\n",
    "#P0 = vcat([Pv for i = 1:N], [Ph for i = 1:M]);\n",
    "H = GaussianEP.TermRBM(zeros(N,M),y,1.0);\n",
    "\n",
    "#out_ep = expectation_propagation(H,P0, nprint = 1000, maxiter = 10000, damp = 0.99, epsconv = 1e-5);\n",
    "\n",
    "beta_min = 0.01\n",
    "beta_max = 1.0\n",
    "niter = 50\n",
    "step = (beta_max - beta_min) / niter\n",
    "beta = beta_min\n",
    "out_ep = nothing\n",
    "\n",
    "\n",
    "\n",
    "for iter = 1:niter+1\n",
    "    H.w .= beta * w_EP\n",
    "    println(beta)\n",
    "    if iter == 1\n",
    "        out_ep = expectation_propagation([H],P0,nprint = 100, damp= 0.999, epsconv = 1e-4, maxiter = 10000, state = nothing);\n",
    "    else\n",
    "        out_ep = expectation_propagation([H],P0,nprint = 100, damp= 0.999, epsconv = 1e-4, maxiter = 10000, state = out_ep[1].state);\n",
    "    end\n",
    "    beta += step\n",
    "end \n"
   ]
  },
  {
   "cell_type": "code",
   "execution_count": null,
   "metadata": {},
   "outputs": [],
   "source": [
    "\n",
    "N,M = size(w_EP)\n",
    "y = zeros(N+M)\n",
    "H = GaussianEP.TermRBM(w_EP,y,1.0);\n",
    "out_ep0 = expectation_propagation([H],P0,nprint = 100, damp= 0.999, epsconv = 1e-4, maxiter = 10000, state = nothing)"
   ]
  },
  {
   "cell_type": "code",
   "execution_count": 4,
   "metadata": {},
   "outputs": [],
   "source": [
    "y = zeros(N+M)\n",
    "H = GaussianEP.TermRBM(w_EP,y,1.0);\n",
    "vstate, hstate, S_vh, _, _ = GaussianEP.block_expectation_propagation([H], P0, nprint = 1000, damp= 0.99, epsconv = 5e-5, maxiter = 10000);"
   ]
  },
  {
   "cell_type": "code",
   "execution_count": null,
   "metadata": {},
   "outputs": [],
   "source": [
    "[P0[end].ρ, P0[1].x0, P0[1].x1]\n",
    "\n",
    "P0v = [Sampling.BinaryPrior(0.0, 1.0, P0[i].ρ) for i in 1:N];\n",
    "P0h = [Sampling.BinaryPrior(0.0, 1.0, P0[i+N].ρ) for i in 1:M];\n"
   ]
  },
  {
   "cell_type": "code",
   "execution_count": null,
   "metadata": {},
   "outputs": [],
   "source": [
    "Ns = 10000\n",
    "Neq = 100000\n",
    "x0 = zeros(N+M)\n",
    "x = zeros(Ns,N+M)\n",
    "\n",
    "Sampling.gibbssampling!(x0, w_EP, P0v, P0h, Neq)\n",
    "Nwait = 100\n",
    "x[1,:] .= x0\n",
    "for i = 2:Ns\n",
    "    x[i,:] .= Sampling.gibbssampling(x[i-1,1:N], x[i-1,N+1:end], w_EP, P0v, P0h, Nwait)\n",
    "end"
   ]
  },
  {
   "cell_type": "code",
   "execution_count": null,
   "metadata": {},
   "outputs": [],
   "source": [
    "using Statistics\n",
    "mean_mc = mean(x,dims = 1)\n",
    "cov_mc = cov(x)\n",
    "vcov_mc = cov_mc[1:N,1:N];"
   ]
  },
  {
   "cell_type": "code",
   "execution_count": null,
   "metadata": {},
   "outputs": [],
   "source": [
    "scatter(mean_data, vstate.av)"
   ]
  },
  {
   "cell_type": "code",
   "execution_count": null,
   "metadata": {},
   "outputs": [],
   "source": [
    "scatter(mean_data, out_ep0[1].av[1:N])"
   ]
  },
  {
   "cell_type": "code",
   "execution_count": null,
   "metadata": {},
   "outputs": [],
   "source": [
    "scatter(mean_data, mean_mc[1:N])"
   ]
  },
  {
   "cell_type": "code",
   "execution_count": null,
   "metadata": {},
   "outputs": [],
   "source": [
    "scatter(vstate.av, mean_mc[1:N])\n"
   ]
  },
  {
   "cell_type": "code",
   "execution_count": null,
   "metadata": {},
   "outputs": [],
   "source": [
    "p2 = scatter(vec(vstate.Σ), vec(vcov_mc))"
   ]
  },
  {
   "cell_type": "code",
   "execution_count": null,
   "metadata": {},
   "outputs": [],
   "source": [
    "[vstate.av out_ep0[1].av[1:N]]\n",
    "using Plots\n",
    "\n",
    "p1 = histogram(out_ep0[1].av[1:N], yscale = :log10, label =\"ep\")\n",
    "p2 = histogram(vstate.av[1:N], yscale = :log10, label = \"block\")\n",
    "p3 = histogram(out_ep[1].av[1:N], yscale = :log10, label = \"ann\")\n",
    "Plots.plot(p1,p2, p3)"
   ]
  },
  {
   "cell_type": "code",
   "execution_count": null,
   "metadata": {},
   "outputs": [],
   "source": [
    "\n",
    "p1 = Plots.plot(mean_data,vstate.av, seriestype = :scatter, label = \"EPblock\", xlabel = \"MNIST av\")\n",
    "p2 = Plots.plot(mean_data, out_ep0[1].av[1:N], seriestype = :scatter, label = \"EP\", xlabel = \"MNIST av\")\n",
    "p3 = Plots.plot(mean_data, out_ep[1].av[1:N], seriestype = :scatter, label = \"EP anneal\", xlabel = \"MNIST av\")\n",
    "Plots.plot(p1,p2,p3)\n",
    "\n"
   ]
  },
  {
   "cell_type": "code",
   "execution_count": null,
   "metadata": {},
   "outputs": [],
   "source": [
    "vcov_data = vec(covv_data)\n",
    "vcov_ep = vec(vstate.Σ)\n",
    "Plots.plot(vcov_data, vcov_ep, seriestype = :scatter)"
   ]
  },
  {
   "cell_type": "code",
   "execution_count": null,
   "metadata": {},
   "outputs": [],
   "source": [
    "\n",
    "using BoltzmannMachines\n",
    "using JLD2\n",
    "\n",
    "data_bm = load(\"../MNIST/bm_rbm_cdstep10_batchsize500.jld2\")\n",
    "w_BM = data_bm[\"rbm\"].weights;"
   ]
  },
  {
   "cell_type": "code",
   "execution_count": null,
   "metadata": {},
   "outputs": [],
   "source": [
    "using LinearAlgebra\n",
    "e = eigen(w_BM'*w_BM)\n",
    "e.values"
   ]
  },
  {
   "cell_type": "code",
   "execution_count": null,
   "metadata": {},
   "outputs": [],
   "source": [
    "using BoltzmannMachines\n",
    "#data_bm = load(\"../MNIST/winf_fields_BerRBM.jld2\")\n",
    "data_bm = load(\"../MNIST/bm_rbm_cdstep10_batchsize500.jld2\")\n",
    "w_BM = data_bm[\"rbm\"].weights\n",
    "N,M = size(w_BM)\n",
    "y = zeros(N+M,)\n",
    "rhov_BM = 1.0 ./ (1.0 .+ exp.(data_bm[\"rbm\"].visbias));\n",
    "rhoh_BM = 1.0 ./ (1.0 .+ exp.(data_bm[\"rbm\"].hidbias));\n",
    "\n",
    "Pv = [BinaryPrior(0.0,1.0,rhov_BM[i]) for i = 1:N]\n",
    "Ph = [BinaryPrior(0.0,1.0,rhoh_BM[i]) for i = 1:M]\n",
    "\n",
    "P0_BM = vcat(Pv,Ph);\n",
    "\n",
    "H_BM = GaussianEP.TermRBM(zeros(N,M),y,1.0);\n",
    "beta_min = 0.05\n",
    "beta_max = 1.0\n",
    "niter = 500\n",
    "step = (beta_max - beta_min) / niter\n",
    "beta = beta_min\n",
    "out_BM = nothing\n",
    "\n",
    "#out_BM_plain = expectation_propagation([H_BM],P0_BM,nprint = 100, damp= 0.995, epsconv = 5e-4, maxiter = 3000, state = nothing);\n",
    "\n",
    "for iter = 1:niter+1\n",
    "    H_BM.w .= beta * w_BM\n",
    "    println(beta)\n",
    "    if iter == 1\n",
    "        out_BM = expectation_propagation([H_BM],P0_BM,nprint = 1000, damp= 0.995, epsconv = 2e-3, maxiter = 10000, state = nothing);\n",
    "    else\n",
    "        out_BM = expectation_propagation([H_BM],P0_BM,nprint = 1000, damp= 0.995, epsconv = 2e-3, maxiter = 10000, state = out_BM[1].state);\n",
    "    end\n",
    "    beta += step\n",
    "end \n",
    "\n"
   ]
  },
  {
   "cell_type": "code",
   "execution_count": null,
   "metadata": {},
   "outputs": [],
   "source": [
    "#data_bm = load(\"../MNIST/bm_rbm_cdstep10_batchsize500.jld2\")\n",
    "#w_BM = data_bm[\"rbm\"].weights\n",
    "p1 = hist(vec(w_BM), bins = 200, density = true)\n",
    "p2 = hist(vec(w_EP), bins = 200, density = true)\n",
    "#p2 = plot(vec(H_BM.w),vec(w_BM), seriestype= :scatter)\n",
    "#l = @layout [a;b]\n",
    "plot(p1,p2)"
   ]
  },
  {
   "cell_type": "code",
   "execution_count": null,
   "metadata": {},
   "outputs": [],
   "source": [
    "using Random\n",
    "\n",
    "\n",
    "N,M = size(w_BM)\n",
    "rhov = 0.8677\n",
    "rhoh = 0.8\n",
    "biasv_ep = log((1.0 - rhov)/rhov)\n",
    "biash_ep = log((1.0 - rhoh)/rhoh)\n",
    "rbm_bm = data_bm[\"rbm\"]\n",
    "rbm_ep = BernoulliRBM(w_EP, fill(biasv_ep, N), fill(biash_ep, M))\n",
    "particle_ep = BoltzmannMachines.initparticles(rbm_ep, 1, biased=true)\n",
    "particle_bm = BoltzmannMachines.initparticles(rbm_bm, 1, biased=true)\n",
    "\n",
    "#typeof(rbm_bm)\n",
    "Nconf = 5000\n",
    "Neq = 500000\n",
    "samples_ep = zeros(Nconf, N)\n",
    "samples_bm = zeros(Nconf, N)\n",
    "\n",
    "hidden_bm = zeros(Nconf,M)\n",
    "hidden_ep = zeros(Nconf,M)\n",
    "\n",
    "myseed = 19\n",
    "Random.seed!(myseed)\n",
    "gibbssample!(particle_ep, rbm_ep, Neq)\n",
    "gibbssample!(particle_bm, rbm_bm, Neq)\n",
    "for i = 1:Nconf\n",
    "\n",
    "    gibbssample!(particle_ep, rbm_ep, 1)\n",
    "    gibbssample!(particle_bm, rbm_bm, 1)\n",
    "    samples_ep[i,:] = particle_ep[1]\n",
    "    samples_bm[i,:] = particle_bm[1]\n",
    "    hidden_ep[i,:] = particle_ep[2]\n",
    "    hidden_bm[i,:] = particle_bm[2]\n",
    "end\n"
   ]
  },
  {
   "cell_type": "code",
   "execution_count": null,
   "metadata": {},
   "outputs": [],
   "source": [
    "\n",
    "Pv_mc = [Sampling.BinaryPrior(0.0,1.0,rhov_BM[i]) for i = 1:N]\n",
    "Ph_mc = [Sampling.BinaryPrior(0.0,1.0,rhoh_BM[i]) for i = 1:M]\n",
    "\n",
    "P0mc= vcat(Pv_mc,Ph_mc);\n",
    "\n",
    "mc_out = Sampling.MC_sim(w_BM, P0mc, Neq, 0.0, N_iter = 5000)\n",
    "av_mc, va_mc, cov_mc, covv_mc = Sampling.compute_statistics(mc_out, N, M);"
   ]
  },
  {
   "cell_type": "code",
   "execution_count": null,
   "metadata": {},
   "outputs": [],
   "source": [
    "mean_bm_mc = mean(samples_bm, dims=1)\n",
    "p1 = plot(mean_data, out_BM[1].av[1:N], seriestype = :scatter, xlabel = \"Data\", ylabel = \"EP (BM par)\")\n",
    "p2 = plot(mean_data, vec(mean_bm_mc), seriestype = :scatter, xlabel = \"Data\", ylabel = \"MC from BMs.jl (BM par)\")\n",
    "p3 = plot(mean_data, av_mc, seriestype = :scatter, xlabel = \"Data\", aspect_ratio = :equal, ylabel = \"MC from Sampling.jl (BM par)\")\n",
    "l = @layout  [a{0.4h}  b{0.4h} c{0.4h}]\n",
    "plot(p1,  p2, p3, layout = l)"
   ]
  },
  {
   "cell_type": "code",
   "execution_count": null,
   "metadata": {},
   "outputs": [],
   "source": [
    "Ndig = 100\n",
    "digits_ep = zeros(Ndig, N)\n",
    "digits_bm = zeros(Ndig, N)\n",
    "L = convert(Int64,sqrt(N))\n",
    "\n",
    "p1 = []\n",
    "p2 = []\n",
    "idx = 90\n",
    "for i = 1:Ndig\n",
    "    digits_bm[i,:] = samplevisible(rbm_bm, hidden_bm[idx,:])\n",
    "    digits_ep[i,:] = samplevisible(rbm_ep, hidden_ep[idx,:])\n",
    "    p1 = vcat(p1, matshow(reshape(mean(digits_ep, dims=1)', L, L), aspect_ratio = :equal, yflip = false))\n",
    "    p2 = vcat(p2, matshow(reshape(mean(digits_bm, dims=1)', L, L), aspect_ratio = :equal, yflip = false))\n",
    "\n",
    "end\n",
    "\n"
   ]
  },
  {
   "cell_type": "code",
   "execution_count": null,
   "metadata": {},
   "outputs": [],
   "source": [
    "idx = 100\n",
    "plot(p1[idx], p2[idx])"
   ]
  },
  {
   "cell_type": "code",
   "execution_count": null,
   "metadata": {},
   "outputs": [],
   "source": [
    "\n",
    "Pv_mc = [Sampling.BinaryPrior(0.0,1.0,rhov) for i = 1:N]\n",
    "Ph_mc = [Sampling.BinaryPrior(0.0,1.0,rhoh) for i = 1:M]\n",
    "\n",
    "P0mc= vcat(Pv_mc,Ph_mc);\n",
    "\n",
    "mc_out = Sampling.MC_sim(w_EP, P0mc, Neq, 0.0, N_iter = 10000)\n",
    "av_mc, va_mc, cov_mc, covv_mc = Sampling.compute_statistics(mc_out, N, M);"
   ]
  },
  {
   "cell_type": "code",
   "execution_count": null,
   "metadata": {},
   "outputs": [],
   "source": [
    "mean_ep_mc = mean(samples_ep, dims=1)\n",
    "p1 = plot(mean_data, out_ep[1].av[1:N], seriestype = :scatter, xlabel = \"Data\", ylabel = \"EP (EP par)\")\n",
    "p2 = plot(mean_data, vec(mean_ep_mc), seriestype = :scatter, xlabel = \"Data\", ylabel = \"MC from BMs.jl (EP par)\")\n",
    "p3 = plot(mean_data, av_mc, seriestype = :scatter, xlabel = \"Data\", aspect_ratio = :equal, ylabel = \"MC from Sampling.jl (EP par)\")\n",
    "l = @layout  [a{0.4h}  b{0.4h} c{0.4h}]\n",
    "plot(p1,  p2, p3, layout = l)"
   ]
  },
  {
   "cell_type": "markdown",
   "metadata": {},
   "source": [
    "# Trash hereafter:"
   ]
  },
  {
   "cell_type": "code",
   "execution_count": null,
   "metadata": {},
   "outputs": [],
   "source": [
    "covv_ep = zeros(N,N)\n",
    "for i = 1:N, j = i+1:N\n",
    "\tcovv_ep[i,j] = out_ep.state.Σ[i,j] + out_ep.state.av[i] * out_ep.state.av[j]\n",
    "\tcovv_ep[j,i] = covv_ep[i,j]\n",
    "end\n",
    "\n",
    "va_data = zeros(N,)\n",
    "for i = 1:N\n",
    "\tva_data[i] = covv_data[i,i] - mean_data[i] * mean_data[i]\n",
    "\tcovv_data[i,i] = NaN\n",
    "end\n",
    "\n",
    "covv_bm = zeros(N,N)\n",
    "for i = 1:N, j = i+1:N\n",
    "\tcovv_bm[i,j] = out_BM.state.Σ[i,j] + out_BM.state.av[i] * out_BM.state.av[j]\n",
    "\tcovv_bm[j,i] = covv_bm[i,j]\n",
    "end\n"
   ]
  },
  {
   "cell_type": "code",
   "execution_count": null,
   "metadata": {},
   "outputs": [],
   "source": [
    "p = Plots.plot(mean_data, mean_data, aspect_ratio = :equal, seriestype = :scatter, label = \"x = y\", legend = :topleft, xlabel= \"Data av\")\n",
    "p = Plots.plot!(mean_data, out_ep.av[1:N], aspect_ratio = :equal, seriestype = :scatter, label = \"EP means\", legend = :topleft, xlabel= \"Data av\")\n",
    "p1 = Plots.plot(mean_data, mean_data, aspect_ratio = :equal, seriestype = :scatter, label = \"x = y\", legend = :topleft, xlabel= \"Data av\")\n",
    "p1 = Plots.plot!(mean_data, out_BM.av[1:N], seriestype = :scatter, label = \"BM means\", legend = :topleft, xlabel= \"Data av\")\n",
    "p2 = Plots.plot(out_BM.av[1:N], out_ep.av[1:N], seriestype = :scatter, label = \"Av\", legend = :topleft, xlabel = \"BM\", ylabel = \"EP\")\n",
    "l = @layout [a{0.3h} b{0.3h} c{0.3h}]\n",
    "Plots.plot(p, p1,p2, layout = l)"
   ]
  },
  {
   "cell_type": "code",
   "execution_count": null,
   "metadata": {},
   "outputs": [],
   "source": [
    "p = Plots.plot(va_data, va_data, aspect_ratio = :equal, seriestype = :scatter, label = \"x = y\", legend = :topleft, xlabel= \"Data var\")\n",
    "p = Plots.plot!(va_data, out_ep.va[1:N], aspect_ratio = :equal, seriestype = :scatter, label = \"EP vars\", legend = :topleft, xlabel= \"Data var\")\n",
    "p1 = Plots.plot(va_data, va_data, aspect_ratio = :equal, seriestype = :scatter, label = \"x = y\", legend = :topleft, xlabel= \"Data var\")\n",
    "p1 = Plots.plot!(va_data, out_BM.va[1:N], seriestype = :scatter, label = \"BM vars\", legend = :topleft, xlabel= \"Data var\")\n",
    "p2 = Plots.plot(out_BM.va[1:N], out_ep.va[1:N], seriestype = :scatter, label = \"Vars\", legend = :topleft, xlabel = \"BM\", ylabel = \"EP\")\n",
    "l = @layout [a{0.3h} b{0.3h} c{0.3h}]\n",
    "Plots.plot(p, p1,p2, layout = l)"
   ]
  },
  {
   "cell_type": "code",
   "execution_count": null,
   "metadata": {},
   "outputs": [],
   "source": [
    "vcovv_data = vec(covv_data)\n",
    "vcovv_ep = vec(covv_ep)\n",
    "vcovv_bm = vec(covv_bm)\n",
    "\n",
    "p = Plots.plot(vcovv_data, vcovv_data, aspect_ratio = :equal, seriestype = :scatter, label = \"x = y\", legend = :topleft, xlabel= \"Data cov(v,v)\")\n",
    "p = Plots.plot!(vcovv_data, vcovv_ep, aspect_ratio = :equal, seriestype = :scatter, label = \"EP covv\", legend = :topleft, xlabel= \"Data cov(v,v)\")\n",
    "p1 = Plots.plot(vcovv_data, vcovv_data, aspect_ratio = :equal, seriestype = :scatter, label = \"x = y\", legend = :topleft, xlabel= \"Data cov(v,v)\")\n",
    "p1 = Plots.plot!(vcovv_data, vcovv_bm, seriestype = :scatter, label = \"BM covv\", legend = :topleft, xlabel= \"Data cov(v,v)\")\n",
    "p2 = Plots.plot(vcovv_bm, vcovv_ep, seriestype = :scatter, label = \"Cov (v,v)\", legend = :topleft, xlabel = \"BM\", ylabel = \"EP\")\n",
    "l = @layout [a{0.3h} b{0.3h} c{0.3h}]\n",
    "Plots.plot(p, p1,p2, layout = l)\n",
    "\n"
   ]
  },
  {
   "cell_type": "code",
   "execution_count": null,
   "metadata": {},
   "outputs": [],
   "source": [
    "writedlm(open(\"../MNIST/covv_bm.dat\", \"w\"), vec(covv_bm))\n",
    "writedlm(open(\"../MNIST/covv_ep.dat\", \"w\"), vec(covv_ep))\n",
    "writedlm(open(\"../MNIST/covv_data.dat\", \"w\"), vec(covv_data))\n",
    "size(vec(covv_bm))"
   ]
  }
 ],
 "metadata": {
  "interpreter": {
   "hash": "1b361c855fbb00476414a68d75b606cbc6762a47eaafd2f9484e031b170af4aa"
  },
  "kernelspec": {
   "display_name": "Julia 1.6.2",
   "language": "julia",
   "name": "julia-1.6"
  },
  "language_info": {
   "file_extension": ".jl",
   "mimetype": "application/julia",
   "name": "julia",
   "version": "1.6.2"
  },
  "orig_nbformat": 4
 },
 "nbformat": 4,
 "nbformat_minor": 2
}
